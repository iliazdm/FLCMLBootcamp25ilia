{
  "nbformat": 4,
  "nbformat_minor": 0,
  "metadata": {
    "colab": {
      "provenance": [],
      "toc_visible": true,
      "include_colab_link": true
    },
    "kernelspec": {
      "name": "python3",
      "display_name": "Python 3"
    },
    "language_info": {
      "name": "python"
    }
  },
  "cells": [
    {
      "cell_type": "markdown",
      "metadata": {
        "id": "view-in-github",
        "colab_type": "text"
      },
      "source": [
        "<a href=\"https://colab.research.google.com/github/iliazdm/FLCMLBootcamp25ilia/blob/main/2_Basics_PythonProgramming_Takehome.ipynb\" target=\"_parent\"><img src=\"https://colab.research.google.com/assets/colab-badge.svg\" alt=\"Open In Colab\"/></a>"
      ]
    },
    {
      "cell_type": "markdown",
      "source": [
        "# Personal Finance 101 with Python\n",
        "\n",
        "- Investing is crucial for wealth growth, financial security, and achieving long-term financial goals.\n",
        "- One of the biggest reasons to invest is the power of compounding, which allows your money to grow exponentially over time."
      ],
      "metadata": {
        "id": "BGhlVvcyZGWp"
      }
    },
    {
      "cell_type": "markdown",
      "source": [
        "### Understanding the Compounding Effect\n",
        "\n",
        "$$ A = P * \\left( 1 + \\frac{r}{n} \\right) ^{n*t}$$\n",
        "\n",
        "Where,\n",
        "\n",
        "- A  = Final amount\n",
        "- P  = Principal (initial investment)\n",
        "- r  = Annual interest rate (as a decimal)\n",
        "- n  = Times interest is compounded per year\n",
        "- t  = Time in years\n"
      ],
      "metadata": {
        "id": "zyYa0RR2L_8n"
      }
    },
    {
      "cell_type": "code",
      "execution_count": null,
      "metadata": {
        "id": "XrEjSeR5UQVl",
        "colab": {
          "base_uri": "https://localhost:8080/"
        },
        "outputId": "fc83df29-3ee0-4998-f960-f48bfc7b798d"
      },
      "outputs": [
        {
          "output_type": "stream",
          "name": "stdout",
          "text": [
            "Compound Interest Calculator Results:\n",
            "Principal Amount: $1000.00\n",
            "Annual Interest Rate: 6.00%\n",
            "Compounding Frequency: 1 times per year\n",
            "Number of Years: 10\n",
            "Total Amount: $1790.85\n",
            "Total Interest Earned: $790.85\n"
          ]
        }
      ],
      "source": [
        "#@title Compound Interest Calculator\n",
        "\n",
        "#@markdown Enter the principal amount (P in $):\n",
        "principal = 1000 #@param {type:\"number\"}\n",
        "\n",
        "#@markdown Enter the annual interest rate as a percentage (r):\n",
        "interest_rate = 6 #@param {type:\"number\"}\n",
        "\n",
        "#@markdown Enter the number of times interest is compounded per year (n):\n",
        "compounding_frequency = 1 #@param {type:\"number\"}\n",
        "\n",
        "#@markdown Enter the number of years (t):\n",
        "years = 10 #@param {type:\"number\"}\n",
        "\n",
        "\n",
        "# Calculate compound interest\n",
        "# 1. Convert percentage into decimal\n",
        "interest_rate_decimal = interest_rate / 100\n",
        "\n",
        "\n",
        "# 2. Calculate the final amount (A)\n",
        "final_amount = principal * ((1 + (interest_rate_decimal / compounding_frequency)) ** (compounding_frequency * years))\n",
        "\n",
        "\n",
        "# 3. Calculate the total interest earned\n",
        "total_interest = final_amount - principal\n",
        "\n",
        "\n",
        "# Display the results\n",
        "print(\"Compound Interest Calculator Results:\")\n",
        "print(f\"Principal Amount: ${principal:.2f}\")\n",
        "print(f\"Annual Interest Rate: {interest_rate:.2f}%\")\n",
        "print(f\"Compounding Frequency: {compounding_frequency} times per year\")\n",
        "print(f\"Number of Years: {years}\")\n",
        "print(f\"Total Amount: ${final_amount:.2f}\")\n",
        "print(f\"Total Interest Earned: ${total_interest:.2f}\")\n"
      ]
    },
    {
      "cell_type": "markdown",
      "source": [
        "### Effect of starting principal (P)\n",
        "\n",
        "Write a function to calculate total amount and total interest earned for starting principal (P in $): 10, 50, 100, 500 and 1000. Assume r=5%, n=1 and t=5.\n",
        "\n",
        "Hint: Iterate over a list data structure containing 'P' values using a compound interest calculator function"
      ],
      "metadata": {
        "id": "ScJlnZfEbTUH"
      }
    },
    {
      "cell_type": "code",
      "source": [
        "# Calculate the effect of starting principal (more 'P')\n",
        "r = 5 / 100\n",
        "n = 1\n",
        "t = 5\n",
        "pArray = [10,50,100,500,1000]\n",
        "\n",
        "def pEffect(principals):\n",
        "  for p in principals:\n",
        "    totalAmount = p * ((1 + (r / n)) ** (n * t))\n",
        "    print(f\"Principal: ${p}\\n\")\n",
        "    print(f\"Total amount: ${totalAmount}\\n\")\n",
        "    print(f\"Total interest: ${totalAmount - p}\\n\\n\")\n",
        "\n",
        "pEffect(pArray)"
      ],
      "metadata": {
        "id": "MICZ2cnDbrZg",
        "colab": {
          "base_uri": "https://localhost:8080/"
        },
        "outputId": "2bdc4137-111e-444e-bc9e-7b3ea974deae"
      },
      "execution_count": null,
      "outputs": [
        {
          "output_type": "stream",
          "name": "stdout",
          "text": [
            "Principal: $10\n",
            "\n",
            "Total amount: $12.762815625000004\n",
            "\n",
            "Total interest: $2.7628156250000035\n",
            "\n",
            "\n",
            "Principal: $50\n",
            "\n",
            "Total amount: $63.814078125000016\n",
            "\n",
            "Total interest: $13.814078125000016\n",
            "\n",
            "\n",
            "Principal: $100\n",
            "\n",
            "Total amount: $127.62815625000003\n",
            "\n",
            "Total interest: $27.628156250000032\n",
            "\n",
            "\n",
            "Principal: $500\n",
            "\n",
            "Total amount: $638.1407812500001\n",
            "\n",
            "Total interest: $138.14078125000015\n",
            "\n",
            "\n",
            "Principal: $1000\n",
            "\n",
            "Total amount: $1276.2815625000003\n",
            "\n",
            "Total interest: $276.2815625000003\n",
            "\n",
            "\n"
          ]
        }
      ]
    },
    {
      "cell_type": "markdown",
      "source": [
        "#### Write a simple conclusion on what the effect of starting principal (more 'P') is on a compounding interest investment?"
      ],
      "metadata": {
        "id": "BIcD3dEecSpq"
      }
    },
    {
      "cell_type": "code",
      "source": [
        "# With more starting principal you will get more interest"
      ],
      "metadata": {
        "id": "gCpivos6chhj"
      },
      "execution_count": null,
      "outputs": []
    },
    {
      "cell_type": "markdown",
      "source": [
        "### Effect of starting early (more years of investing = more 't')\n",
        "\n",
        "Reuse the compounding interest calculator function above and determine the effect of more years of investing 't': 2yrs, 5yrs, 10yrs, 20yrs, 30yrs. Assume P=\\$100, r=5% and n=1."
      ],
      "metadata": {
        "id": "3Zi_t5Ftcsw1"
      }
    },
    {
      "cell_type": "code",
      "source": [
        "# Calculate the effect of starting early (more 't')\n",
        "r = 5 / 100\n",
        "n = 1\n",
        "tArray = [2,5,10,20,30]\n",
        "p = 100\n",
        "def tEffect(years):\n",
        "  for t in years:\n",
        "    totalAmount = p * ((1 + (r / n)) ** (n * t))\n",
        "    print(f\"Investing years: {t}yrs\\n\")\n",
        "    print(f\"Total amount: ${totalAmount}\\n\")\n",
        "    print(f\"Total interest: ${totalAmount - p}\\n\\n\")\n",
        "\n",
        "tEffect(tArray)"
      ],
      "metadata": {
        "id": "a5jHCG7NdcBf",
        "colab": {
          "base_uri": "https://localhost:8080/"
        },
        "outputId": "3202e52a-d33f-49b5-ac70-84d21368a6a8"
      },
      "execution_count": null,
      "outputs": [
        {
          "output_type": "stream",
          "name": "stdout",
          "text": [
            "Investing years: 2yrs\n",
            "\n",
            "Total amount: $110.25\n",
            "\n",
            "Total interest: $10.25\n",
            "\n",
            "\n",
            "Investing years: 5yrs\n",
            "\n",
            "Total amount: $127.62815625000003\n",
            "\n",
            "Total interest: $27.628156250000032\n",
            "\n",
            "\n",
            "Investing years: 10yrs\n",
            "\n",
            "Total amount: $162.8894626777442\n",
            "\n",
            "Total interest: $62.889462677744206\n",
            "\n",
            "\n",
            "Investing years: 20yrs\n",
            "\n",
            "Total amount: $265.3297705144422\n",
            "\n",
            "Total interest: $165.3297705144422\n",
            "\n",
            "\n",
            "Investing years: 30yrs\n",
            "\n",
            "Total amount: $432.1942375150668\n",
            "\n",
            "Total interest: $332.1942375150668\n",
            "\n",
            "\n"
          ]
        }
      ]
    },
    {
      "cell_type": "markdown",
      "source": [
        "#### Write a simple conclusion on what the effect of starting early (more 't') is on a compounding interest investment?\n"
      ],
      "metadata": {
        "id": "dkDFHmiNdosi"
      }
    },
    {
      "cell_type": "code",
      "source": [
        "# with more years of investing we will get more interest"
      ],
      "metadata": {
        "id": "lnHQstTZUqAN"
      },
      "execution_count": null,
      "outputs": []
    },
    {
      "cell_type": "markdown",
      "source": [
        "### Effect of better rate of return (more 'r')\n",
        "\n",
        "Reuse the compounding interest calculator function above and determine the effect of better rate of return 'r': 2%, 5%, 8% and 10%. Assume P=$100, n=1 and t=5."
      ],
      "metadata": {
        "id": "b4HolM8adwzl"
      }
    },
    {
      "cell_type": "code",
      "source": [
        "# Calculate the effect of better rate of return (more 'r')\n",
        "rArray = [2 / 100 , 5 / 100 , 8 / 100 , 10 / 100]\n",
        "n = 1\n",
        "t = 5\n",
        "p = 100\n",
        "def rEffect(rate):\n",
        "  for r in rate:\n",
        "    totalAmount = p * ((1 + (r / n)) ** (n * t))\n",
        "    print(f\"Rate: {r * 100}%\\n\")\n",
        "    print(f\"Total amount: ${totalAmount}\\n\")\n",
        "    print(f\"Total interest: ${totalAmount - p}\\n\\n\")\n",
        "\n",
        "rEffect(rArray)\n"
      ],
      "metadata": {
        "id": "pbcjQ24Kew56",
        "colab": {
          "base_uri": "https://localhost:8080/"
        },
        "outputId": "c57b06be-adfa-4f38-c8ab-c35a69a476db"
      },
      "execution_count": null,
      "outputs": [
        {
          "output_type": "stream",
          "name": "stdout",
          "text": [
            "Rate: 2.0%\n",
            "\n",
            "Total amount: $110.40808032\n",
            "\n",
            "Total interest: $10.408080319999996\n",
            "\n",
            "\n",
            "Rate: 5.0%\n",
            "\n",
            "Total amount: $127.62815625000003\n",
            "\n",
            "Total interest: $27.628156250000032\n",
            "\n",
            "\n",
            "Rate: 8.0%\n",
            "\n",
            "Total amount: $146.93280768000005\n",
            "\n",
            "Total interest: $46.93280768000005\n",
            "\n",
            "\n",
            "Rate: 10.0%\n",
            "\n",
            "Total amount: $161.05100000000004\n",
            "\n",
            "Total interest: $61.051000000000045\n",
            "\n",
            "\n"
          ]
        }
      ]
    },
    {
      "cell_type": "markdown",
      "source": [
        "#### Write a simple conclusion on what the effect of better rate of return (more 'r') is on a compounding interest investment?"
      ],
      "metadata": {
        "id": "q5ihxgcKez4g"
      }
    },
    {
      "cell_type": "code",
      "source": [
        "# With better rate you will get more interest"
      ],
      "metadata": {
        "id": "9l2jBAZ0VfdY"
      },
      "execution_count": null,
      "outputs": []
    },
    {
      "cell_type": "markdown",
      "source": [
        "### What happens to a compounding interest investment if you also do recurring investment (adding fixed \\$ amount in a fixed time frequency into the principal 'P')"
      ],
      "metadata": {
        "id": "8RPUEsNYe7nw"
      }
    },
    {
      "cell_type": "code",
      "source": [
        "# Write a new python function that will also take a fixed recurring deposit 'rd' every month to calculate compounding interest\n",
        "\n",
        "r = 5 / 100\n",
        "n = 1\n",
        "t = 5\n",
        "p = 100\n",
        "rd = 5\n",
        "def investment():\n",
        "  totalInterest = 0\n",
        "  totalP = p + ((t * 12) * rd)\n",
        "  for i in range(t * 12):\n",
        "    totalInterest += ((p + (rd * i)) * ((1 + (r / n)) ** (n * t))) - (p + (rd * i))\n",
        "  print(f\"Principal: ${p}\\n\")\n",
        "  print(f\"Recurring deposit: ${rd}\\n\")\n",
        "  print(f\"Total principal: ${totalP}\\n\")\n",
        "  print(f\"Total amount: ${totalP + totalInterest}\\n\")\n",
        "  print(f\"Total interest: ${totalInterest}\\n\\n\")\n",
        "\n",
        "investment()\n"
      ],
      "metadata": {
        "id": "PXVG53KdffHD",
        "colab": {
          "base_uri": "https://localhost:8080/"
        },
        "outputId": "19dfae8d-dffb-4162-8f3a-9ea1a3294984"
      },
      "execution_count": null,
      "outputs": [
        {
          "output_type": "stream",
          "name": "stdout",
          "text": [
            "Principal: $100\n",
            "\n",
            "Recurring deposit: $5\n",
            "\n",
            "Total principal: $400\n",
            "\n",
            "Total amount: $4502.781203125005\n",
            "\n",
            "Total interest: $4102.781203125005\n",
            "\n",
            "\n"
          ]
        }
      ]
    },
    {
      "cell_type": "markdown",
      "source": [
        "#### What is the effect of disciplined investing using recurring deposits?\n",
        "\n",
        "Use the new compounding interest calculator with recurring investment to calculate the effect of disciplined investing. Assume P=$100, r=5%, n=12 (monthly compounding), t=5.\n",
        "\n",
        "Calculate for different 'rd' (in $): 0, 1, 5, 10, 50, 100"
      ],
      "metadata": {
        "id": "WoKmXBp3gaeN"
      }
    },
    {
      "cell_type": "code",
      "source": [
        "# Write code to calculate the final_amount (A) for recurring deposits into monthly compounding investment\n",
        "\n",
        "r = 5 / 100\n",
        "n = 12\n",
        "t = 5\n",
        "p = 100\n",
        "rd = 5\n",
        "def investment():\n",
        "  totalP = p + ((t * 12) * rd)\n",
        "  totalAmount = totalP * ((1 + (r / n)) ** (n * t))\n",
        "  print(f\"Principal: ${p}\\n\")\n",
        "  print(f\"Recurring deposit: ${rd}\\n\")\n",
        "  print(f\"Total principal: ${totalP}\\n\")\n",
        "  print(f\"Total amount: ${totalAmount}\\n\")\n",
        "  print(f\"Total interest: ${totalAmount - totalP}\\n\\n\")\n",
        "\n",
        "investment()\n"
      ],
      "metadata": {
        "id": "gz8NLxgzhHlU"
      },
      "execution_count": null,
      "outputs": []
    },
    {
      "cell_type": "markdown",
      "source": [
        "#### Write a simple conclusion on what is the effect of disciplined investing using recurring deposits?"
      ],
      "metadata": {
        "id": "HzaDkeEmhRTd"
      }
    },
    {
      "cell_type": "markdown",
      "source": [
        "### What problems/decisions that you face in life can be solved using basic Python programming? Share atleast two ideas.\n",
        "\n",
        "\n"
      ],
      "metadata": {
        "id": "V1SICqGdi3bu"
      }
    },
    {
      "cell_type": "markdown",
      "source": [
        "# Final Retrospection:\n",
        "### What challenges did you face while programming with Python?\n",
        "\n",
        "\n",
        "\n",
        "### How did you overcome those challenges?\n",
        "\n",
        "\n",
        "\n",
        "### Mention other resources you used to solve this take-home assignment\n",
        "\n",
        "\n",
        "\n",
        "### Did you use any tools (like ChatGPT) to solve the issues? What are the challenges and opportunities?\n",
        "\n",
        "\n",
        "\n",
        "### After this exercise, are you feeling excited to learn more?\n",
        "\n",
        "\n",
        "\n",
        "\n",
        "NOTE: Save the file with your code and text answers before committing it to your new GitHub public repository. Send a link to your file on Github to the TA."
      ],
      "metadata": {
        "id": "gnnYEjdqhh7f"
      }
    }
  ]
}