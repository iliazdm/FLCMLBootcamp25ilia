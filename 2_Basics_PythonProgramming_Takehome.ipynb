{
  "nbformat": 4,
  "nbformat_minor": 0,
  "metadata": {
    "colab": {
      "provenance": [],
      "include_colab_link": true
    },
    "kernelspec": {
      "name": "python3",
      "display_name": "Python 3"
    },
    "language_info": {
      "name": "python"
    }
  },
  "cells": [
    {
      "cell_type": "markdown",
      "metadata": {
        "id": "view-in-github",
        "colab_type": "text"
      },
      "source": [
        "<a href=\"https://colab.research.google.com/github/iliazdm/FLCMLBootcamp25ilia/blob/main/2_Basics_PythonProgramming_Takehome.ipynb\" target=\"_parent\"><img src=\"https://colab.research.google.com/assets/colab-badge.svg\" alt=\"Open In Colab\"/></a>"
      ]
    },
    {
      "cell_type": "markdown",
      "source": [
        "# Personal Finance 101 with Python\n",
        "\n",
        "- Investing is crucial for wealth growth, financial security, and achieving long-term financial goals.\n",
        "- One of the biggest reasons to invest is the power of compounding, which allows your money to grow exponentially over time."
      ],
      "metadata": {
        "id": "BGhlVvcyZGWp"
      }
    },
    {
      "cell_type": "markdown",
      "source": [
        "### Understanding the Compounding Effect\n",
        "\n",
        "$$ A = P * \\left( 1 + \\frac{r}{n} \\right) ^{n*t}$$\n",
        "\n",
        "Where,\n",
        "\n",
        "- A  = Final amount\n",
        "- P  = Principal (initial investment)\n",
        "- r  = Annual interest rate (as a decimal)\n",
        "- n  = Times interest is compounded per year\n",
        "- t  = Time in years\n"
      ],
      "metadata": {
        "id": "zyYa0RR2L_8n"
      }
    },
    {
      "cell_type": "code",
      "execution_count": null,
      "metadata": {
        "id": "XrEjSeR5UQVl",
        "colab": {
          "base_uri": "https://localhost:8080/"
        },
        "outputId": "fc83df29-3ee0-4998-f960-f48bfc7b798d"
      },
      "outputs": [
        {
          "output_type": "stream",
          "name": "stdout",
          "text": [
            "Compound Interest Calculator Results:\n",
            "Principal Amount: $1000.00\n",
            "Annual Interest Rate: 6.00%\n",
            "Compounding Frequency: 1 times per year\n",
            "Number of Years: 10\n",
            "Total Amount: $1790.85\n",
            "Total Interest Earned: $790.85\n"
          ]
        }
      ],
      "source": [
        "#@title Compound Interest Calculator\n",
        "\n",
        "#@markdown Enter the principal amount (P in $):\n",
        "principal = 1000 #@param {type:\"number\"}\n",
        "\n",
        "#@markdown Enter the annual interest rate as a percentage (r):\n",
        "interest_rate = 6 #@param {type:\"number\"}\n",
        "\n",
        "#@markdown Enter the number of times interest is compounded per year (n):\n",
        "compounding_frequency = 1 #@param {type:\"number\"}\n",
        "\n",
        "#@markdown Enter the number of years (t):\n",
        "years = 10 #@param {type:\"number\"}\n",
        "\n",
        "\n",
        "# Calculate compound interest\n",
        "# 1. Convert percentage into decimal\n",
        "interest_rate_decimal = interest_rate / 100\n",
        "\n",
        "\n",
        "# 2. Calculate the final amount (A)\n",
        "final_amount = principal * ((1 + (interest_rate_decimal / compounding_frequency)) ** (compounding_frequency * years))\n",
        "\n",
        "\n",
        "# 3. Calculate the total interest earned\n",
        "total_interest = final_amount - principal\n",
        "\n",
        "\n",
        "# Display the results\n",
        "print(\"Compound Interest Calculator Results:\")\n",
        "print(f\"Principal Amount: ${principal:.2f}\")\n",
        "print(f\"Annual Interest Rate: {interest_rate:.2f}%\")\n",
        "print(f\"Compounding Frequency: {compounding_frequency} times per year\")\n",
        "print(f\"Number of Years: {years}\")\n",
        "print(f\"Total Amount: ${final_amount:.2f}\")\n",
        "print(f\"Total Interest Earned: ${total_interest:.2f}\")\n"
      ]
    },
    {
      "cell_type": "markdown",
      "source": [
        "### Effect of starting principal (P)\n",
        "\n",
        "Write a function to calculate total amount and total interest earned for starting principal (P in $): 10, 50, 100, 500 and 1000. Assume r=5%, n=1 and t=5.\n",
        "\n",
        "Hint: Iterate over a list data structure containing 'P' values using a compound interest calculator function"
      ],
      "metadata": {
        "id": "ScJlnZfEbTUH"
      }
    },
    {
      "cell_type": "code",
      "source": [
        "# Calculate the effect of starting principal (more 'P')\n",
        "# Formula variables\n",
        "r = 5 / 100\n",
        "n = 1\n",
        "t = 5\n",
        "p_array = [10,50,100,500,1000] # Array for principal\n",
        "\n",
        "def p_effect(principals):\n",
        "  for p in principals:\n",
        "    total_amount = p * ((1 + (r / n)) ** (n * t))\n",
        "    # Display the result\n",
        "    print(f\"Principal: ${p}\\n\")\n",
        "    print(f\"Total amount: ${total_amount}\\n\")\n",
        "    print(f\"Total interest: ${total_amount - p}\\n\\n\")\n",
        "\n",
        "p_effect(p_array)"
      ],
      "metadata": {
        "id": "MICZ2cnDbrZg",
        "colab": {
          "base_uri": "https://localhost:8080/"
        },
        "outputId": "11a45733-c280-40c4-bcff-aaec0be4843b"
      },
      "execution_count": null,
      "outputs": [
        {
          "output_type": "stream",
          "name": "stdout",
          "text": [
            "Principal: $10\n",
            "\n",
            "Total amount: $12.762815625000004\n",
            "\n",
            "Total interest: $2.7628156250000035\n",
            "\n",
            "\n",
            "Principal: $50\n",
            "\n",
            "Total amount: $63.814078125000016\n",
            "\n",
            "Total interest: $13.814078125000016\n",
            "\n",
            "\n",
            "Principal: $100\n",
            "\n",
            "Total amount: $127.62815625000003\n",
            "\n",
            "Total interest: $27.628156250000032\n",
            "\n",
            "\n",
            "Principal: $500\n",
            "\n",
            "Total amount: $638.1407812500001\n",
            "\n",
            "Total interest: $138.14078125000015\n",
            "\n",
            "\n",
            "Principal: $1000\n",
            "\n",
            "Total amount: $1276.2815625000003\n",
            "\n",
            "Total interest: $276.2815625000003\n",
            "\n",
            "\n"
          ]
        }
      ]
    },
    {
      "cell_type": "markdown",
      "source": [
        "#### Write a simple conclusion on what the effect of starting principal (more 'P') is on a compounding interest investment?"
      ],
      "metadata": {
        "id": "BIcD3dEecSpq"
      }
    },
    {
      "cell_type": "code",
      "source": [
        "# With more starting principal you will get more interest"
      ],
      "metadata": {
        "id": "gCpivos6chhj"
      },
      "execution_count": null,
      "outputs": []
    },
    {
      "cell_type": "markdown",
      "source": [
        "### Effect of starting early (more years of investing = more 't')\n",
        "\n",
        "Reuse the compounding interest calculator function above and determine the effect of more years of investing 't': 2yrs, 5yrs, 10yrs, 20yrs, 30yrs. Assume P=\\$100, r=5% and n=1."
      ],
      "metadata": {
        "id": "3Zi_t5Ftcsw1"
      }
    },
    {
      "cell_type": "code",
      "source": [
        "# Calculate the effect of starting early (more 't')\n",
        "# Formula varaibles\n",
        "r = 5 / 100\n",
        "n = 1\n",
        "t_array = [2,5,10,20,30] # Array for time in year\n",
        "p = 100\n",
        "def t_effect(years):\n",
        "  for t in years:\n",
        "    total_amount = p * ((1 + (r / n)) ** (n * t))\n",
        "    # Display the result\n",
        "    print(f\"Investing years: {t}yrs\\n\")\n",
        "    print(f\"Total amount: ${total_amount}\\n\")\n",
        "    print(f\"Total interest: ${total_amount - p}\\n\\n\")\n",
        "\n",
        "t_effect(t_array)"
      ],
      "metadata": {
        "id": "a5jHCG7NdcBf",
        "colab": {
          "base_uri": "https://localhost:8080/"
        },
        "outputId": "fbde2ae0-9abd-4946-9686-a1d111c4aaa6"
      },
      "execution_count": null,
      "outputs": [
        {
          "output_type": "stream",
          "name": "stdout",
          "text": [
            "Investing years: 2yrs\n",
            "\n",
            "Total amount: $110.25\n",
            "\n",
            "Total interest: $10.25\n",
            "\n",
            "\n",
            "Investing years: 5yrs\n",
            "\n",
            "Total amount: $127.62815625000003\n",
            "\n",
            "Total interest: $27.628156250000032\n",
            "\n",
            "\n",
            "Investing years: 10yrs\n",
            "\n",
            "Total amount: $162.8894626777442\n",
            "\n",
            "Total interest: $62.889462677744206\n",
            "\n",
            "\n",
            "Investing years: 20yrs\n",
            "\n",
            "Total amount: $265.3297705144422\n",
            "\n",
            "Total interest: $165.3297705144422\n",
            "\n",
            "\n",
            "Investing years: 30yrs\n",
            "\n",
            "Total amount: $432.1942375150668\n",
            "\n",
            "Total interest: $332.1942375150668\n",
            "\n",
            "\n"
          ]
        }
      ]
    },
    {
      "cell_type": "markdown",
      "source": [
        "#### Write a simple conclusion on what the effect of starting early (more 't') is on a compounding interest investment?\n"
      ],
      "metadata": {
        "id": "dkDFHmiNdosi"
      }
    },
    {
      "cell_type": "code",
      "source": [
        "# with more years of investing we will get more interest"
      ],
      "metadata": {
        "id": "lnHQstTZUqAN"
      },
      "execution_count": null,
      "outputs": []
    },
    {
      "cell_type": "markdown",
      "source": [
        "### Effect of better rate of return (more 'r')\n",
        "\n",
        "Reuse the compounding interest calculator function above and determine the effect of better rate of return 'r': 2%, 5%, 8% and 10%. Assume P=$100, n=1 and t=5."
      ],
      "metadata": {
        "id": "b4HolM8adwzl"
      }
    },
    {
      "cell_type": "code",
      "source": [
        "# Calculate the effect of better rate of return (more 'r')\n",
        "# Formula variables\n",
        "r_array = [2 / 100 , 5 / 100 , 8 / 100 , 10 / 100] # Array for interest rate\n",
        "n = 1\n",
        "t = 5\n",
        "p = 100\n",
        "def r_effect(rate):\n",
        "  for r in rate:\n",
        "    total_amount = p * ((1 + (r / n)) ** (n * t))\n",
        "    # Display the result\n",
        "    print(f\"Rate: {r * 100}%\\n\")\n",
        "    print(f\"Total amount: ${total_amount}\\n\")\n",
        "    print(f\"Total interest: ${total_amount - p}\\n\\n\")\n",
        "\n",
        "r_effect(r_array)\n"
      ],
      "metadata": {
        "id": "pbcjQ24Kew56",
        "colab": {
          "base_uri": "https://localhost:8080/"
        },
        "outputId": "34700371-98af-4125-c4d2-ae85a27707e9"
      },
      "execution_count": null,
      "outputs": [
        {
          "output_type": "stream",
          "name": "stdout",
          "text": [
            "Rate: 2.0%\n",
            "\n",
            "Total amount: $110.40808032\n",
            "\n",
            "Total interest: $10.408080319999996\n",
            "\n",
            "\n",
            "Rate: 5.0%\n",
            "\n",
            "Total amount: $127.62815625000003\n",
            "\n",
            "Total interest: $27.628156250000032\n",
            "\n",
            "\n",
            "Rate: 8.0%\n",
            "\n",
            "Total amount: $146.93280768000005\n",
            "\n",
            "Total interest: $46.93280768000005\n",
            "\n",
            "\n",
            "Rate: 10.0%\n",
            "\n",
            "Total amount: $161.05100000000004\n",
            "\n",
            "Total interest: $61.051000000000045\n",
            "\n",
            "\n"
          ]
        }
      ]
    },
    {
      "cell_type": "markdown",
      "source": [
        "#### Write a simple conclusion on what the effect of better rate of return (more 'r') is on a compounding interest investment?"
      ],
      "metadata": {
        "id": "q5ihxgcKez4g"
      }
    },
    {
      "cell_type": "code",
      "source": [
        "# With better rate you will get more interest"
      ],
      "metadata": {
        "id": "9l2jBAZ0VfdY"
      },
      "execution_count": null,
      "outputs": []
    },
    {
      "cell_type": "markdown",
      "source": [
        "### What happens to a compounding interest investment if you also do recurring investment (adding fixed \\$ amount in a fixed time frequency into the principal 'P')"
      ],
      "metadata": {
        "id": "8RPUEsNYe7nw"
      }
    },
    {
      "cell_type": "code",
      "source": [
        "# Write a new python function that will also take a fixed recurring deposit 'rd' every month to calculate compounding interest\n",
        "# Formula variables\n",
        "r = 5 / 100\n",
        "n = 1\n",
        "t = 5\n",
        "p = 100\n",
        "recurring_deposit = 5\n",
        "def investment(rd):\n",
        "  # Evaluate total amount for first principal\n",
        "  total_amount = p * ((1 + (r / n)) ** (n * t))\n",
        "  # Find total principal by adding recurring deposit\n",
        "  total_principal = p + ((t * 12) * rd)\n",
        "  # Increase total amount by investing every month\n",
        "  for m in range(1,t * 12):\n",
        "    remaining_years = ((t * 12) - m) / 12\n",
        "    total_amount += rd * ((1 + (r / n)) ** (n * remaining_years))\n",
        "  # Display the result\n",
        "  print(f\"Principal: ${p}\\n\")\n",
        "  print(f\"Recurring deposit: ${rd}\\n\")\n",
        "  print(f\"Total principal: ${total_principal}\\n\")\n",
        "  print(f\"Total amount: ${total_amount}\\n\")\n",
        "  print(f\"Total interest: ${total_amount - total_principal}\\n\\n\")\n",
        "\n",
        "investment(recurring_deposit)\n"
      ],
      "metadata": {
        "id": "PXVG53KdffHD",
        "colab": {
          "base_uri": "https://localhost:8080/"
        },
        "outputId": "06010e5b-b989-4b94-eb7d-7b07a67577f8"
      },
      "execution_count": 1,
      "outputs": [
        {
          "output_type": "stream",
          "name": "stdout",
          "text": [
            "Principal: $100\n",
            "\n",
            "Recurring deposit: $5\n",
            "\n",
            "Total principal: $400\n",
            "\n",
            "Total amount: $461.6968458279527\n",
            "\n",
            "Total interest: $61.6968458279527\n",
            "\n",
            "\n"
          ]
        }
      ]
    },
    {
      "cell_type": "markdown",
      "source": [
        "#### What is the effect of disciplined investing using recurring deposits?\n",
        "\n",
        "Use the new compounding interest calculator with recurring investment to calculate the effect of disciplined investing. Assume P=$100, r=5%, n=12 (monthly compounding), t=5.\n",
        "\n",
        "Calculate for different 'rd' (in $): 0, 1, 5, 10, 50, 100"
      ],
      "metadata": {
        "id": "WoKmXBp3gaeN"
      }
    },
    {
      "cell_type": "code",
      "source": [
        "# Formula variables\n",
        "r = 5 / 100  # Annual interest rate\n",
        "n = 12       # Monthly compounding\n",
        "t = 5        # Investment period in years\n",
        "p = 100      # Initial principal\n",
        "rd_array = [0, 1, 5, 10, 50, 100]  # Recurring deposits\n",
        "\n",
        "def investment(recurring_deposit):\n",
        "    for rd in recurring_deposit:\n",
        "        # Reset total amount for each rd\n",
        "        total_amount = p * ((1 + (r / n)) ** (n * t))\n",
        "\n",
        "        # Find total principal (initial + all recurring deposits)\n",
        "        total_principal = p + (rd * 12 * t)\n",
        "\n",
        "        # Add recurring deposits' compound growth\n",
        "        for m in range(1, t * 12 + 1):\n",
        "            remaining_years = (t * 12 - m) / 12\n",
        "            total_amount += rd * ((1 + (r / n)) ** (n * remaining_years))\n",
        "\n",
        "        # Display results for each `rd`\n",
        "        print(f\"Principal: ${p}\")\n",
        "        print(f\"Recurring Deposit: ${rd}\")\n",
        "        print(f\"Total principal: ${total_principal}\")\n",
        "        print(f\"Total amount: ${total_amount:.2f}\")\n",
        "        print(f\"Total interest: ${total_amount - total_principal:.2f}\\n\")\n",
        "\n",
        "investment(rd_array)\n"
      ],
      "metadata": {
        "id": "gz8NLxgzhHlU",
        "outputId": "5a154791-5f91-40f7-8209-ecf9ccbe7c99",
        "colab": {
          "base_uri": "https://localhost:8080/"
        }
      },
      "execution_count": 5,
      "outputs": [
        {
          "output_type": "stream",
          "name": "stdout",
          "text": [
            "Principal: $100\n",
            "Recurring Deposit: $0\n",
            "Total principal: $100\n",
            "Total amount: 5 Years: $128.34\n",
            "Total interest: $28.34\n",
            "\n",
            "Principal: $100\n",
            "Recurring Deposit: $1\n",
            "Total principal: $160\n",
            "Total amount: 5 Years: $196.34\n",
            "Total interest: $36.34\n",
            "\n",
            "Principal: $100\n",
            "Recurring Deposit: $5\n",
            "Total principal: $400\n",
            "Total amount: 5 Years: $468.37\n",
            "Total interest: $68.37\n",
            "\n",
            "Principal: $100\n",
            "Recurring Deposit: $10\n",
            "Total principal: $700\n",
            "Total amount: 5 Years: $808.40\n",
            "Total interest: $108.40\n",
            "\n",
            "Principal: $100\n",
            "Recurring Deposit: $50\n",
            "Total principal: $3100\n",
            "Total amount: 5 Years: $3528.64\n",
            "Total interest: $428.64\n",
            "\n",
            "Principal: $100\n",
            "Recurring Deposit: $100\n",
            "Total principal: $6100\n",
            "Total amount: 5 Years: $6928.94\n",
            "Total interest: $828.94\n",
            "\n"
          ]
        }
      ]
    },
    {
      "cell_type": "markdown",
      "source": [
        "#### Write a simple conclusion on what is the effect of disciplined investing using recurring deposits?"
      ],
      "metadata": {
        "id": "HzaDkeEmhRTd"
      }
    },
    {
      "cell_type": "code",
      "source": [
        "#with more recurring investment we gain more interest"
      ],
      "metadata": {
        "id": "upXbuPiiFcLW"
      },
      "execution_count": null,
      "outputs": []
    },
    {
      "cell_type": "markdown",
      "source": [
        "### What problems/decisions that you face in life can be solved using basic Python programming? Share atleast two ideas.\n",
        "\n",
        "\n"
      ],
      "metadata": {
        "id": "V1SICqGdi3bu"
      }
    },
    {
      "cell_type": "markdown",
      "source": [
        "Solving math problems and bank systems such as transactions and deposits."
      ],
      "metadata": {
        "id": "1ONhGJlCGB0y"
      }
    },
    {
      "cell_type": "markdown",
      "source": [
        "# Final Retrospection:\n",
        "### What challenges did you face while programming with Python?\n",
        "\n",
        "It was a good example, and I only had challenges with the last two questions about adding a recurring investment. I didn’t know what the question designer wanted me to do, but I wrote something that I hope is correct.\n",
        "\n",
        "### How did you overcome those challenges?\n",
        "\n",
        "For the last two questions i ask chatgpt just for understanding the question not writing the code.\n",
        "\n",
        "### Mention other resources you used to solve this take-home assignment\n",
        "I didn't use any resources.\n",
        "\n",
        "\n",
        "### Did you use any tools (like ChatGPT) to solve the issues? What are the challenges and opportunities?\n",
        "As I said i use chatgpt for understanding the two last questions.\n",
        "\n",
        "\n",
        "### After this exercise, are you feeling excited to learn more?\n",
        "\n",
        "Yeah, i like to learn more about python and machine learning.\n",
        "\n",
        "\n",
        "NOTE: Save the file with your code and text answers before committing it to your new GitHub public repository. Send a link to your file on Github to the TA."
      ],
      "metadata": {
        "id": "gnnYEjdqhh7f"
      }
    }
  ]
}